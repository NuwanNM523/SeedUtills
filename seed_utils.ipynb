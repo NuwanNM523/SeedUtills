{
  "nbformat": 4,
  "nbformat_minor": 0,
  "metadata": {
    "colab": {
      "provenance": [],
      "collapsed_sections": [],
      "mount_file_id": "1nQ2UXTKDDzqoqz84HgLR2a7mR_3vpPb_",
      "authorship_tag": "ABX9TyNQvn9cdTNeHLcAXHAHJkVE",
      "include_colab_link": true
    },
    "kernelspec": {
      "name": "python3",
      "display_name": "Python 3"
    },
    "language_info": {
      "name": "python"
    },
    "accelerator": "GPU"
  },
  "cells": [
    {
      "cell_type": "markdown",
      "metadata": {
        "id": "view-in-github",
        "colab_type": "text"
      },
      "source": [
        "<a href=\"https://colab.research.google.com/github/NuwanNM523/SeedUtills/blob/main/seed_utils.ipynb\" target=\"_parent\"><img src=\"https://colab.research.google.com/assets/colab-badge.svg\" alt=\"Open In Colab\"/></a>"
      ]
    },
    {
      "cell_type": "code",
      "execution_count": null,
      "metadata": {
        "id": "OdDzBNVIosrY"
      },
      "outputs": [],
      "source": [
        "import cv2\n",
        "import numpy as np\n",
        "import os\n",
        "import copy\n",
        "import tensorflow as tf\n",
        "from tensorflow import keras\n",
        "from itertools import combinations\n"
      ]
    },
    {
      "cell_type": "code",
      "source": [
        "def read_gen(img_folder_path, h_set = 1080):\n",
        "\timgs_path = os.listdir(img_folder_path)\n",
        "\tprint(imgs_path)\n",
        "\tfor name in imgs_path:\n",
        "\t\tprint(os.path.join(img_folder_path, name))\n",
        "\t\timg = cv2.imread(os.path.join(img_folder_path, name))\n",
        "\t\th, w, _ = img.shape\n",
        "\t\tw_set = int(h_set*w/h)\n",
        "\t\timg_resize = cv2.resize(img, (w_set, h_set))\n",
        "\t\tyield img_resize, name"
      ],
      "metadata": {
        "id": "VBaX7784qMkZ"
      },
      "execution_count": null,
      "outputs": []
    },
    {
      "cell_type": "code",
      "source": [
        "def thresholding(image, sat_thres = 50, hue_low = 15, hue_high = 35, vol_thres = None, open_size = 5, dilate_size = 7):\n",
        "    img = cv2.cvtColor(image.copy(), cv2.COLOR_BGR2HSV)\n",
        "    img[img[...,1] < sat_thres] = 0\n",
        "    img[img[...,0] < hue_low] = 0\n",
        "    img[img[...,0] > hue_high] = 0\n",
        "    if vol_thres is not None:\n",
        "        img[img[...,2] < vol_thres] = 0\n",
        "    img_mask = cv2.cvtColor(img, cv2.COLOR_HSV2BGR)\n",
        "    img_mask = cv2.cvtColor(img_mask, cv2.COLOR_BGR2GRAY)\n",
        "    img_mask[img_mask > 0] = 255\n",
        "    img_mask = cv2.morphologyEx(img_mask, cv2.MORPH_OPEN,\n",
        "                                np.ones((open_size,open_size), dtype = np.uint8))\n",
        "    img_mask = cv2.morphologyEx(img_mask, cv2.MORPH_DILATE,\n",
        "                                np.ones((dilate_size,dilate_size), dtype = np.uint8))\n",
        "    return img_mask"
      ],
      "metadata": {
        "id": "nVbtP2tIqw2g"
      },
      "execution_count": null,
      "outputs": []
    },
    {
      "cell_type": "code",
      "source": [
        "def sort_by_x(cnt):\n",
        "    M = cv2.moments(cnt)\n",
        "    return int(M['m10']/M['m00'])"
      ],
      "metadata": {
        "id": "FJmWSh8rrq3F"
      },
      "execution_count": null,
      "outputs": []
    },
    {
      "cell_type": "code",
      "source": [
        "def find_bbox(image_mask, box_w = 128, box_h = 128, min_area_prop = 0.4):\n",
        "    img_mask = image_mask.copy()\n",
        "    cnt, _ = cv2.findContours( img_mask,\n",
        "                        cv2.RETR_EXTERNAL,\n",
        "                        cv2.CHAIN_APPROX_SIMPLE )\n",
        "    cnt = sorted(cnt, key = sort_by_x)\n",
        "    bboxes =[]\n",
        "    area = np.array([cv2.contourArea(i) for i in cnt])\n",
        "    good_area = []\n",
        "    min_area = area.mean()*min_area_prop\n",
        "    for i in range(len(cnt)):\n",
        "        M = cv2.moments(cnt[i])\n",
        "        if area[i] > min_area:\n",
        "            x_cen, y_cen = (int(M['m10']/M['m00']), int(M['m01']/M['m00']))\n",
        "            x, y, w, h = int(x_cen - box_w/2), int(y_cen - box_h/2), int(box_w), int(box_h)\n",
        "            bboxes.append([x, y, w, h])\n",
        "            good_area.append(area[i])\n",
        "    return bboxes, good_area"
      ],
      "metadata": {
        "id": "CUltWz9oryIV"
      },
      "execution_count": null,
      "outputs": []
    },
    {
      "cell_type": "code",
      "source": [
        "def overlap_area(box1, box2):  # returns None if rectangles don't intersect\n",
        "    a = {'xmax': box1[0]+box1[2], 'xmin':box1[0], 'ymax':box1[1]+box1[3], 'ymin':box1[1]}\n",
        "    b = {'xmax': box2[0]+box2[2], 'xmin':box2[0], 'ymax':box2[1]+box2[3], 'ymin':box2[1]}\n",
        "    dx = min(a['xmax'], b['xmax']) - max(a['xmin'], b['xmin'])\n",
        "    dy = min(a['ymax'], b['ymax']) - max(a['ymin'], b['ymin'])\n",
        "    if (dx>=0) and (dy>=0):\n",
        "        return dx*dy\n"
      ],
      "metadata": {
        "id": "ZXd5p8llr_50"
      },
      "execution_count": null,
      "outputs": []
    },
    {
      "cell_type": "code",
      "source": [
        "def doOverlap(box1, box2): \n",
        "    \n",
        "    # If one rectangle is on left side of other \n",
        "    if(box1[0] >= box2[0]+box2[2] or box2[0] >= box1[0]+box1[2]): \n",
        "        return False\n",
        "  \n",
        "    # If one rectangle is above other \n",
        "    if(box1[1] <= box2[1]-box2[3] or box2[1] <= box1[1]-box1[3]): \n",
        "        return False  \n",
        "    \n",
        "    return True"
      ],
      "metadata": {
        "id": "jMXKB7EHsEeE"
      },
      "execution_count": null,
      "outputs": []
    },
    {
      "cell_type": "code",
      "source": [
        "def seed2array(img, bboxes, size = 64):\n",
        "    img = cv2.cvtColor(img, cv2.COLOR_BGR2RGB)/255.\n",
        "    seed_list = []\n",
        "    for x, y, w, h in bboxes:\n",
        "    \ttry:\n",
        "    \t\tseed_list.append(cv2.resize(img[y:y+h, x:x+w], (size, size)))\n",
        "    \texcept:\n",
        "    \t\tprint(x, y, w, h)\n",
        "    seed_array = np.array(seed_list)\n",
        "    return seed_array"
      ],
      "metadata": {
        "id": "56VBgQ4wsJfs"
      },
      "execution_count": null,
      "outputs": []
    },
    {
      "cell_type": "code",
      "source": [
        "def predict_seed(seed_array, model):\n",
        "    output = model.predict(seed_array)\n",
        "    return output.argmax(axis = 1), output"
      ],
      "metadata": {
        "id": "rMx_--crsTHk"
      },
      "execution_count": null,
      "outputs": []
    },
    {
      "cell_type": "code",
      "source": [
        "def prob_check(p, thres = 0.1):\n",
        "    p_sortd = sorted(p)\n",
        "    dif = abs(p_sortd[1]- p_sortd[2])\n",
        "    if dif < thres:\n",
        "        return True, dif\n",
        "    else:\n",
        "        return False, dif"
      ],
      "metadata": {
        "id": "_4TlBybpsXds"
      },
      "execution_count": null,
      "outputs": []
    },
    {
      "cell_type": "code",
      "source": [
        "def check_overlap(bboxes, area, thres = 0.25):\n",
        "    over_lap_pair = []\n",
        "    w, h = bboxes[0][2], bboxes[0][3]\n",
        "    for pair in combinations(bboxes, r=2):\n",
        "        if doOverlap(pair[0], pair[1]):\n",
        "            if overlap_area(pair[0], pair[1]) < w*h*thres:\n",
        "                continue\n",
        "            area_1 = area[bboxes.index(pair[0])]\n",
        "            area_2 = area[bboxes.index(pair[1])]\n",
        "            if area_1 > area_2:\n",
        "                x, y = pair[0][0], pair[0][1]\n",
        "            else:\n",
        "                x, y = pair[1][0], pair[1][1]\n",
        "            bboxes.append([x,y,w,h])\n",
        "            over_lap_pair.append(pair[0])\n",
        "            over_lap_pair.append(pair[1])\n",
        "    for i in over_lap_pair:\n",
        "        try:\n",
        "            bboxes.pop(bboxes.index(i))\n",
        "        except:\n",
        "            continue\n",
        "    return bboxes"
      ],
      "metadata": {
        "id": "iMqG8M7-see9"
      },
      "execution_count": null,
      "outputs": []
    },
    {
      "cell_type": "code",
      "source": [
        "def check_overlap_2(bboxes_o, area, classes, prob, thres = 0.25):\n",
        "    overlap_pair = []\n",
        "    checked_box = []\n",
        "    checked_class = []\n",
        "    checked_prob = []\n",
        "    bboxes = copy.deepcopy(bboxes_o)\n",
        "    w, h = bboxes[0][2], bboxes[0][3]\n",
        "    for pair in combinations(bboxes, r=2):\n",
        "        if doOverlap(pair[0], pair[1]):\n",
        "            if overlap_area(pair[0], pair[1]) < w*h*thres:\n",
        "                continue\n",
        "            if classes[bboxes.index(pair[0])] == 2 or classes[bboxes.index(pair[1])] == 2:\n",
        "                if classes[bboxes.index(pair[0])] == 2 and prob[bboxes.index(pair[0])].max() > prob[bboxes.index(pair[1])].max():\n",
        "                    x = pair[0][0]\n",
        "                    y = pair[0][1]\n",
        "                    prob_class_pos = prob[bboxes.index(pair[0])]\n",
        "                else:\n",
        "                    x = pair[1][0]\n",
        "                    y = pair[1][1]\n",
        "                    prob_class_pos = prob[bboxes.index(pair[1])]\n",
        "\n",
        "                checked_box.append([x,y,w,h])\n",
        "                checked_class.append(2)\n",
        "                checked_prob.append(prob_class_pos)\n",
        "                overlap_pair.append(pair[0])\n",
        "                overlap_pair.append(pair[1])\n",
        "            else:\n",
        "                most_confident = 0 if max(prob[bboxes.index(pair[0])]) > max(prob[bboxes.index(pair[1])]) else 1\n",
        "                x = pair[most_confident][0]\n",
        "                y = pair[most_confident][1]\n",
        "                checked_box.append([x,y,w,h])\n",
        "                checked_class.append(classes[bboxes.index(pair[most_confident])])\n",
        "                checked_prob.append(prob[bboxes.index(pair[most_confident])])\n",
        "                overlap_pair.append(pair[0])\n",
        "                overlap_pair.append(pair[1])\n",
        "    for b, c, p in zip(bboxes, classes, prob):\n",
        "        if b not in overlap_pair:\n",
        "            checked_box.append(b)\n",
        "            checked_class.append(c)\n",
        "            checked_prob.append(p)\n",
        "    return checked_box, np.array(checked_class), np.array(checked_prob)"
      ],
      "metadata": {
        "id": "e8xob6BBsoRs"
      },
      "execution_count": null,
      "outputs": []
    }
  ]
}